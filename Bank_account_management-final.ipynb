{
 "cells": [
  {
   "cell_type": "code",
   "execution_count": 1,
   "id": "a70244fc-3e7f-4837-b11c-91171550a7c2",
   "metadata": {},
   "outputs": [],
   "source": [
    "import time"
   ]
  },
  {
   "cell_type": "markdown",
   "id": "e41f24bd-fe5f-4c90-a795-a23040e7e361",
   "metadata": {},
   "source": [
    "# Create account_table in database then define update,fetch function"
   ]
  },
  {
   "cell_type": "code",
   "execution_count": 3,
   "id": "a903d5ab-e079-4e54-866a-3e3c05e2efbb",
   "metadata": {},
   "outputs": [],
   "source": [
    "from sqlite3 import *\n",
    "def Create_account_table(name,account_id,amount):\n",
    "    try:\n",
    "        con=connect('bank_management.db')\n",
    "        cur=con.cursor()\n",
    "        cur.execute(''' CREATE TABLE IF NOT EXISTS account_table(\n",
    "                    name TEXT NOT NULL,\n",
    "                    id TEXT NOT NULL UNIQUE,\n",
    "                    current_amount REAL NOT NULL)''')\n",
    "        cur.execute('INSERT OR REPLACE INTO account_table(name,id,current_amount) values(?,?,?)',(name,account_id,amount))\n",
    "        con.commit()\n",
    "        con.close()\n",
    "    except:\n",
    "        print(\"Error!Error!Something went wrong \")"
   ]
  },
  {
   "cell_type": "code",
   "execution_count": 4,
   "id": "13a1b634-e566-452a-bad1-3b45f50dfa81",
   "metadata": {},
   "outputs": [],
   "source": [
    "def update_account_table(account_id,amount):\n",
    "    try:\n",
    "        con=connect('bank_management.db')\n",
    "        cur=con.cursor()\n",
    "        cur.execute('UPDATE account_table SET current_amount=? WHERE id=?',(amount,account_id))\n",
    "        con.commit()\n",
    "        \n",
    "        if cur.rowcount > 0:\n",
    "                print(f\"\\nAccount {account_id} updated with new balance: {amount}\\n\")\n",
    "        else:\n",
    "                print(f\"\\nAccount {account_id} not found or no changes made.\\n\")\n",
    "        \n",
    "        con.close()\n",
    "    except:\n",
    "        print(\"Error!Error!Something went wrong \")"
   ]
  },
  {
   "cell_type": "code",
   "execution_count": 5,
   "id": "d2a9d56a-1228-4b05-a649-dc787adf88c0",
   "metadata": {},
   "outputs": [],
   "source": [
    "def fetch_amount_from_amount_table(account_id):\n",
    "    try:\n",
    "        con=connect('bank_management.db')\n",
    "        cur=con.cursor()\n",
    "        cur.execute('Select current_amount from account_table WHERE id=?',(account_id,))\n",
    "        amount=cur.fetchone()\n",
    "        con.close()\n",
    "        if amount is not None:\n",
    "            return amount[0]\n",
    "        else:\n",
    "            return None\n",
    "    except:\n",
    "        print(\"Error!Error!Something went wrong \")\n",
    "        "
   ]
  },
  {
   "cell_type": "code",
   "execution_count": 6,
   "id": "bd83b055-69fc-46c7-acb4-e5141d928561",
   "metadata": {},
   "outputs": [],
   "source": [
    "def list_account_table_content():\n",
    "               try:\n",
    "                    con=connect('bank_management.db')\n",
    "                    cur=con.cursor()\n",
    "                    cur.execute(\"select * from account_table\")\n",
    "                    result=cur.fetchall()\n",
    "                    print(\"Accordance : (Account_holder name,Account_id,Current_balance):\")\n",
    "                    for i in result:\n",
    "                        print(i)\n",
    "                    con.close()\n",
    "               except:\n",
    "                    print(\"Error!Error!Something went wrong \")"
   ]
  },
  {
   "cell_type": "markdown",
   "id": "3fcb968b-b704-43b8-a814-ac0701354e07",
   "metadata": {},
   "source": [
    "## Deposit function\n"
   ]
  },
  {
   "cell_type": "code",
   "execution_count": 8,
   "id": "e8ed64a3-a5dd-4571-8372-8ec6165190d5",
   "metadata": {},
   "outputs": [],
   "source": [
    "def deposit(account_id,amount):\n",
    "    try:\n",
    "        current_amount=fetch_amount_from_amount_table(account_id)\n",
    "        current_amount=current_amount + amount\n",
    "        update_account_table(account_id,current_amount)\n",
    "\n",
    "        a=time.time()\n",
    "        current_time= time.strftime(\"%a, %d %b %Y %H:%M:%S\",time.gmtime(a))\n",
    "        \n",
    "        print(f\"\\ntime: {current_time}; {amount} taka deposited ; New account balance {current_amount}; account id {account_id}\")\n",
    "    except:\n",
    "        print(\"Error!!Error!!\")"
   ]
  },
  {
   "cell_type": "markdown",
   "id": "8f96774c-3f2d-42da-b121-fb6973738d0c",
   "metadata": {},
   "source": [
    "# Withraw function"
   ]
  },
  {
   "cell_type": "code",
   "execution_count": 10,
   "id": "69ffd3a4-74cf-489d-bf9d-3bf2a1844b71",
   "metadata": {},
   "outputs": [],
   "source": [
    "def withdraw(account_id,amount):\n",
    "    try:\n",
    "        current_amount=fetch_amount_from_amount_table(account_id)\n",
    "        if current_amount > amount:\n",
    "            current_amount=current_amount - amount\n",
    "            update_account_table(account_id,current_amount)\n",
    "            \n",
    "            a=time.time()\n",
    "            current_time= time.strftime(\"%a, %d %b %Y %H:%M:%S\",time.gmtime(a))\n",
    "            \n",
    "            print(f\"\\ntime: {current_time}; {amount} taka withdrawn ; New account balance {current_amount} taka; account id {account_id}\")\n",
    "            time.sleep(.5)\n",
    "        else:    \n",
    "            print(f\"\\nNot sufficient balance to withdraw {amount} taka\")\n",
    "    except:\n",
    "        print(\"Error!!Error!!\")"
   ]
  },
  {
   "cell_type": "markdown",
   "id": "a0403f1a-b96e-4415-a6e6-be337c54c053",
   "metadata": {},
   "source": [
    "# Transfer function"
   ]
  },
  {
   "cell_type": "code",
   "execution_count": 12,
   "id": "cc2beba4-93bd-4c94-a29a-a92504d97ec1",
   "metadata": {},
   "outputs": [],
   "source": [
    "def transfer(from_account_id, to_account_id,amount):\n",
    "    try:\n",
    "        withdraw(from_account_id,amount)\n",
    "        def try_deposit():\n",
    "             try:\n",
    "                 deposit(to_account_id,amount)\n",
    "             except:\n",
    "                 print(f\"account id:{to_account_id} not found\")\n",
    "                 time.sleep(.5)\n",
    "                 deposit(from_account_id,amount)\n",
    "        try_deposit()\n",
    "    except:\n",
    "        print(\"Error!!Error!!\")\n",
    "     \n",
    "    \n",
    "    "
   ]
  },
  {
   "cell_type": "markdown",
   "id": "cc1599dc-dc46-481f-8a45-be5d7e48df47",
   "metadata": {},
   "source": [
    "# Account info"
   ]
  },
  {
   "cell_type": "code",
   "execution_count": 14,
   "id": "a431f83a-8d13-4f10-b900-6b2638280468",
   "metadata": {},
   "outputs": [],
   "source": [
    "\n",
    "def account_info(number):\n",
    "    try:\n",
    "        name,account_id,current_balance=[],[],[]\n",
    "        for i in range(number):\n",
    "            if i == 0:\n",
    "                print(\"\\nHello sir!!Hello sir!!\")\n",
    "            print(f\"\\nPlease enter information of account no {i+1} below:\")\n",
    "            name.append(input(\"Please enter Account holder name :\"))\n",
    "            time.sleep(0.5)\n",
    "            account_id.append(input('Please enter your account id :'))\n",
    "            time.sleep(0.5)\n",
    "            current_balance.append(float(input('Please enter current balance :'))) \n",
    "            time.sleep(0.5)\n",
    "            if int(account_id[i]) >= 0 and current_balance[i] >= 0:\n",
    "                Create_account_table(name[i],account_id[i],current_balance[i])\n",
    "                print(f\"\\nInformation of your added account {i+1}:\\n name :{name[i]} ; account id :{account_id[i]} ; current_amount :{current_balance[i]} taka\")\n",
    "    except:\n",
    "        print(\"Error!!Error!!\")\n",
    "\n",
    "\n"
   ]
  },
  {
   "cell_type": "markdown",
   "id": "e3dbf51a-0c29-4231-be62-79a7245c312d",
   "metadata": {},
   "source": [
    "## Add account"
   ]
  },
  {
   "cell_type": "code",
   "execution_count": 16,
   "id": "3e98e4ae-6cdd-4a92-b690-23746ab38378",
   "metadata": {},
   "outputs": [],
   "source": [
    "def add_account():\n",
    "    try:\n",
    "            num=int(input(\"\\nSir! how many accounts you want to add :\"))\n",
    "            time.sleep(.5)\n",
    "            \n",
    "            if num > 0 :\n",
    "             account_info(num)\n",
    "        \n",
    "    except:\n",
    "        print(\"Error!!Error!!Wrong input\")"
   ]
  },
  {
   "cell_type": "markdown",
   "id": "981116e3-5f68-4713-a1be-29742c3c16d2",
   "metadata": {},
   "source": [
    "# Main function"
   ]
  },
  {
   "cell_type": "code",
   "execution_count": 18,
   "id": "7d675229-6602-4e68-834f-05a492e8dea5",
   "metadata": {},
   "outputs": [
    {
     "name": "stdout",
     "output_type": "stream",
     "text": [
      "\n",
      "Options available: \n",
      " 1.Add account \n",
      " 2.Deposit \n",
      " 3.Withraw \n",
      " 4.Transfer \n",
      " 5.Check all acounts \n",
      " 6.Exit\n"
     ]
    },
    {
     "name": "stdin",
     "output_type": "stream",
     "text": [
      "Enter any option : 1\n",
      "\n",
      "Sir! how many accounts you want to add : 2\n"
     ]
    },
    {
     "name": "stdout",
     "output_type": "stream",
     "text": [
      "\n",
      "Hello sir!!Hello sir!!\n",
      "\n",
      "Please enter information of account no 1 below:\n"
     ]
    },
    {
     "name": "stdin",
     "output_type": "stream",
     "text": [
      "Please enter Account holder name : Nasimul Khaled Sami\n",
      "Please enter your account id : 05\n",
      "Please enter current balance : 5000\n"
     ]
    },
    {
     "name": "stdout",
     "output_type": "stream",
     "text": [
      "\n",
      "Information of your added account 1:\n",
      " name :Nasimul Khaled Sami ; account id :05 ; current_amount :5000.0 taka\n",
      "\n",
      "Please enter information of account no 2 below:\n"
     ]
    },
    {
     "name": "stdin",
     "output_type": "stream",
     "text": [
      "Please enter Account holder name : Sazidur Rahman\n",
      "Please enter your account id : 01\n",
      "Please enter current balance : 8000\n"
     ]
    },
    {
     "name": "stdout",
     "output_type": "stream",
     "text": [
      "\n",
      "Information of your added account 2:\n",
      " name :Sazidur Rahman ; account id :01 ; current_amount :8000.0 taka\n",
      "\n",
      "Options available: \n",
      " 1.Add account \n",
      " 2.Deposit \n",
      " 3.Withraw \n",
      " 4.Transfer \n",
      " 5.Check all acounts \n",
      " 6.Exit\n"
     ]
    },
    {
     "name": "stdin",
     "output_type": "stream",
     "text": [
      "Enter any option : 2\n",
      "\n",
      "Enter your account id :  05\n",
      "Enter amount to be deposited:  2000\n"
     ]
    },
    {
     "name": "stdout",
     "output_type": "stream",
     "text": [
      "\n",
      "Account 05 updated with new balance: 7000.0\n",
      "\n",
      "\n",
      "time: Mon, 06 Jan 2025 14:08:35; 2000.0 taka deposited ; New account balance 7000.0; account id 05\n",
      "\n",
      "Options available: \n",
      " 1.Add account \n",
      " 2.Deposit \n",
      " 3.Withraw \n",
      " 4.Transfer \n",
      " 5.Check all acounts \n",
      " 6.Exit\n"
     ]
    },
    {
     "name": "stdin",
     "output_type": "stream",
     "text": [
      "Enter any option : 3\n",
      "\n",
      "Enter your account id :  05\n",
      "Enter amount to be withrawn:  1000\n"
     ]
    },
    {
     "name": "stdout",
     "output_type": "stream",
     "text": [
      "\n",
      "Account 05 updated with new balance: 6000.0\n",
      "\n",
      "\n",
      "time: Mon, 06 Jan 2025 14:09:02; 1000.0 taka withrawn ; New account balance 6000.0 taka; account id 05\n",
      "\n",
      "Options available: \n",
      " 1.Add account \n",
      " 2.Deposit \n",
      " 3.Withraw \n",
      " 4.Transfer \n",
      " 5.Check all acounts \n",
      " 6.Exit\n"
     ]
    },
    {
     "name": "stdin",
     "output_type": "stream",
     "text": [
      "Enter any option : 4\n",
      "\n",
      "Enter your account id from where you want to transfer :  05\n",
      "Enter the account id where you want to transfer :  01\n",
      "Enter amount to be transferred :  1000\n"
     ]
    },
    {
     "name": "stdout",
     "output_type": "stream",
     "text": [
      "\n",
      "Account 05 updated with new balance: 5000.0\n",
      "\n",
      "\n",
      "time: Mon, 06 Jan 2025 14:10:37; 1000.0 taka withrawn ; New account balance 5000.0 taka; account id 05\n",
      "\n",
      "Account 01 updated with new balance: 9000.0\n",
      "\n",
      "\n",
      "time: Mon, 06 Jan 2025 14:10:37; 1000.0 taka deposited ; New account balance 9000.0; account id 01\n",
      "\n",
      "Options available: \n",
      " 1.Add account \n",
      " 2.Deposit \n",
      " 3.Withraw \n",
      " 4.Transfer \n",
      " 5.Check all acounts \n",
      " 6.Exit\n"
     ]
    },
    {
     "name": "stdin",
     "output_type": "stream",
     "text": [
      "Enter any option : 5\n"
     ]
    },
    {
     "name": "stdout",
     "output_type": "stream",
     "text": [
      "Accordance : (Account_holder name,Account_id,Current_balance):\n",
      "('Nasimul Khaled Sami', '4', 160.0)\n",
      "('Sohad', '3', 100.0)\n",
      "('Sohad', '03', 1000.0)\n",
      "('Nasimul Khaled Sami', '05', 5000.0)\n",
      "('Sazidur Rahman', '01', 9000.0)\n",
      "\n",
      "Options available: \n",
      " 1.Add account \n",
      " 2.Deposit \n",
      " 3.Withraw \n",
      " 4.Transfer \n",
      " 5.Check all acounts \n",
      " 6.Exit\n"
     ]
    },
    {
     "name": "stdin",
     "output_type": "stream",
     "text": [
      "Enter any option : 5\n"
     ]
    },
    {
     "name": "stdout",
     "output_type": "stream",
     "text": [
      "Accordance : (Account_holder name,Account_id,Current_balance):\n",
      "('Nasimul Khaled Sami', '4', 160.0)\n",
      "('Sohad', '3', 100.0)\n",
      "('Sohad', '03', 1000.0)\n",
      "('Nasimul Khaled Sami', '05', 5000.0)\n",
      "('Sazidur Rahman', '01', 9000.0)\n",
      "\n",
      "Options available: \n",
      " 1.Add account \n",
      " 2.Deposit \n",
      " 3.Withraw \n",
      " 4.Transfer \n",
      " 5.Check all acounts \n",
      " 6.Exit\n"
     ]
    },
    {
     "name": "stdin",
     "output_type": "stream",
     "text": [
      "Enter any option : 6\n"
     ]
    }
   ],
   "source": [
    "while True:\n",
    "    print(\"\\nOptions available: \\n 1.Add account \\n 2.Deposit \\n 3.Withraw \\n 4.Transfer \\n 5.Check all accounts \\n 6.Exit\")\n",
    "    try:\n",
    "       option=int(input(\"Enter any option :\"))\n",
    "       time.sleep(.5)\n",
    "    except ValueError:\n",
    "        print(\"Value error!!you should enter valid option\")\n",
    "    match option:\n",
    "     case 1 :\n",
    "         add_account()\n",
    "     case 2 : \n",
    "         try:\n",
    "             account_id=input(\"\\nEnter your account id : \")\n",
    "             time.sleep(.5)\n",
    "             amount=float(input(\"Enter amount to be deposited: \"))\n",
    "             time.sleep(.5)\n",
    "             if int(account_id) >= 0 :\n",
    "               deposit(account_id,amount)\n",
    "         except:\n",
    "            print(\"Error!Error! Wrong input\")\n",
    "     case 3 :\n",
    "         try:\n",
    "             account_id=input(\"\\nEnter your account id : \")\n",
    "             time.sleep(.5)\n",
    "             amount=float(input(\"Enter amount to be withdrawn: \"))\n",
    "             time.sleep(.5)\n",
    "             if int(account_id) >= 0 :\n",
    "               withdraw(account_id,amount)\n",
    "         except:\n",
    "             print(\"Error!Error! Wrong input\")\n",
    "             \n",
    "     case 4 :\n",
    "         try:\n",
    "             from_account_id=(input(\"\\nEnter your account id from where you want to transfer : \"))\n",
    "             time.sleep(.5)\n",
    "             to__account_id=(input(\"Enter the account id where you want to transfer : \"))\n",
    "             time.sleep(.5)\n",
    "             amount=float(input(\"Enter amount to be transferred : \"))\n",
    "             if int(from_account_id) >= 0 and int(to__account_id) >= 0 :\n",
    "                transfer(from_account_id,to__account_id,amount)\n",
    "         except:\n",
    "             print(\"Error!Error! Wrong input\")\n",
    "             \n",
    "     case 5 :\n",
    "         list_account_table_content()\n",
    "     case 6:\n",
    "         break\n",
    "     case _ :\n",
    "         print(\"Sorry sir!! Enter a valid option\")\n",
    "         \n",
    "     \n",
    "\n",
    "      \n",
    "      "
   ]
  },
  {
   "cell_type": "code",
   "execution_count": null,
   "id": "ca6b9cc8-2d59-48c2-8f5b-183c2c060762",
   "metadata": {},
   "outputs": [],
   "source": []
  },
  {
   "cell_type": "code",
   "execution_count": null,
   "id": "2573c6ab-32c8-4239-a11c-97fc51a33a03",
   "metadata": {},
   "outputs": [],
   "source": []
  },
  {
   "cell_type": "code",
   "execution_count": null,
   "id": "4e161964-9f54-4770-bb41-d6510516cb30",
   "metadata": {},
   "outputs": [],
   "source": []
  }
 ],
 "metadata": {
  "kernelspec": {
   "display_name": "Python 3 (ipykernel)",
   "language": "python",
   "name": "python3"
  },
  "language_info": {
   "codemirror_mode": {
    "name": "ipython",
    "version": 3
   },
   "file_extension": ".py",
   "mimetype": "text/x-python",
   "name": "python",
   "nbconvert_exporter": "python",
   "pygments_lexer": "ipython3",
   "version": "3.12.4"
  }
 },
 "nbformat": 4,
 "nbformat_minor": 5
}
